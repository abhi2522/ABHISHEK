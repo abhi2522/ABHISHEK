{
 "cells": [
  {
   "cell_type": "code",
   "execution_count": 1,
   "id": "30f4c385",
   "metadata": {},
   "outputs": [],
   "source": [
    "st1 = {}"
   ]
  },
  {
   "cell_type": "code",
   "execution_count": 2,
   "id": "ba3a9727",
   "metadata": {},
   "outputs": [],
   "source": [
    "l = []"
   ]
  },
  {
   "cell_type": "code",
   "execution_count": 3,
   "id": "202e2680",
   "metadata": {},
   "outputs": [],
   "source": [
    "t = ()"
   ]
  },
  {
   "cell_type": "code",
   "execution_count": 4,
   "id": "83593a71",
   "metadata": {},
   "outputs": [
    {
     "data": {
      "text/plain": [
       "list"
      ]
     },
     "execution_count": 4,
     "metadata": {},
     "output_type": "execute_result"
    }
   ],
   "source": [
    "type(l)"
   ]
  },
  {
   "cell_type": "code",
   "execution_count": 21,
   "id": "cfed904b",
   "metadata": {},
   "outputs": [
    {
     "data": {
      "text/plain": [
       "tuple"
      ]
     },
     "execution_count": 21,
     "metadata": {},
     "output_type": "execute_result"
    }
   ],
   "source": [
    "type(t)"
   ]
  },
  {
   "cell_type": "code",
   "execution_count": 6,
   "id": "395eb119",
   "metadata": {},
   "outputs": [
    {
     "data": {
      "text/plain": [
       "dict"
      ]
     },
     "execution_count": 6,
     "metadata": {},
     "output_type": "execute_result"
    }
   ],
   "source": [
    "type(st1)"
   ]
  },
  {
   "cell_type": "code",
   "execution_count": 7,
   "id": "b12f905f",
   "metadata": {},
   "outputs": [],
   "source": [
    "st_e = set()"
   ]
  },
  {
   "cell_type": "code",
   "execution_count": 8,
   "id": "21250185",
   "metadata": {},
   "outputs": [],
   "source": [
    "l1 = list()"
   ]
  },
  {
   "cell_type": "code",
   "execution_count": 9,
   "id": "af6e2cdb",
   "metadata": {},
   "outputs": [
    {
     "data": {
      "text/plain": [
       "set"
      ]
     },
     "execution_count": 9,
     "metadata": {},
     "output_type": "execute_result"
    }
   ],
   "source": [
    "type(st_e)"
   ]
  },
  {
   "cell_type": "code",
   "execution_count": 10,
   "id": "6f9a9bb3",
   "metadata": {},
   "outputs": [
    {
     "data": {
      "text/plain": [
       "list"
      ]
     },
     "execution_count": 10,
     "metadata": {},
     "output_type": "execute_result"
    }
   ],
   "source": [
    "type(l1)"
   ]
  },
  {
   "cell_type": "code",
   "execution_count": 11,
   "id": "bd8e5b9d",
   "metadata": {},
   "outputs": [],
   "source": [
    "st_2 = {1,2,3,4,5}"
   ]
  },
  {
   "cell_type": "code",
   "execution_count": 12,
   "id": "aa50d276",
   "metadata": {},
   "outputs": [
    {
     "data": {
      "text/plain": [
       "{1, 2, 3, 4, 5}"
      ]
     },
     "execution_count": 12,
     "metadata": {},
     "output_type": "execute_result"
    }
   ],
   "source": [
    "st_2"
   ]
  },
  {
   "cell_type": "code",
   "execution_count": 13,
   "id": "a64f25c8",
   "metadata": {},
   "outputs": [],
   "source": [
    "st_3 = {10,15,50,90,7,8}"
   ]
  },
  {
   "cell_type": "code",
   "execution_count": 14,
   "id": "94707ef6",
   "metadata": {},
   "outputs": [],
   "source": [
    "l2 = [10,15,50,90,7,8]"
   ]
  },
  {
   "cell_type": "code",
   "execution_count": 15,
   "id": "716ab363",
   "metadata": {},
   "outputs": [
    {
     "data": {
      "text/plain": [
       "[10, 15, 50, 90, 7, 8]"
      ]
     },
     "execution_count": 15,
     "metadata": {},
     "output_type": "execute_result"
    }
   ],
   "source": [
    "l2"
   ]
  },
  {
   "cell_type": "code",
   "execution_count": 16,
   "id": "b87c8922",
   "metadata": {},
   "outputs": [
    {
     "data": {
      "text/plain": [
       "{7, 8, 10, 15, 50, 90}"
      ]
     },
     "execution_count": 16,
     "metadata": {},
     "output_type": "execute_result"
    }
   ],
   "source": [
    "st_3"
   ]
  },
  {
   "cell_type": "code",
   "execution_count": 17,
   "id": "dde24332",
   "metadata": {},
   "outputs": [],
   "source": [
    "st_4 = {1,1,2,2,3,4,5,5,100}"
   ]
  },
  {
   "cell_type": "code",
   "execution_count": 18,
   "id": "6f78032e",
   "metadata": {},
   "outputs": [
    {
     "data": {
      "text/plain": [
       "{1, 2, 3, 4, 5, 100}"
      ]
     },
     "execution_count": 18,
     "metadata": {},
     "output_type": "execute_result"
    }
   ],
   "source": [
    "st_4"
   ]
  },
  {
   "cell_type": "code",
   "execution_count": 19,
   "id": "5ef501dc",
   "metadata": {},
   "outputs": [
    {
     "data": {
      "text/plain": [
       "6"
      ]
     },
     "execution_count": 19,
     "metadata": {},
     "output_type": "execute_result"
    }
   ],
   "source": [
    "len(st_4)"
   ]
  },
  {
   "cell_type": "code",
   "execution_count": 20,
   "id": "6236a8e1",
   "metadata": {},
   "outputs": [
    {
     "ename": "TypeError",
     "evalue": "'set' object is not subscriptable",
     "output_type": "error",
     "traceback": [
      "\u001b[1;31m---------------------------------------------------------------------------\u001b[0m",
      "\u001b[1;31mTypeError\u001b[0m                                 Traceback (most recent call last)",
      "Input \u001b[1;32mIn [20]\u001b[0m, in \u001b[0;36m<cell line: 1>\u001b[1;34m()\u001b[0m\n\u001b[1;32m----> 1\u001b[0m \u001b[43mst_4\u001b[49m\u001b[43m[\u001b[49m\u001b[38;5;241;43m-\u001b[39;49m\u001b[38;5;241;43m1\u001b[39;49m\u001b[43m]\u001b[49m\n",
      "\u001b[1;31mTypeError\u001b[0m: 'set' object is not subscriptable"
     ]
    }
   ],
   "source": [
    "st_4[-1]"
   ]
  },
  {
   "cell_type": "code",
   "execution_count": null,
   "id": "38e89a12",
   "metadata": {},
   "outputs": [],
   "source": [
    "st_4"
   ]
  },
  {
   "cell_type": "code",
   "execution_count": null,
   "id": "8d233aab",
   "metadata": {},
   "outputs": [],
   "source": [
    "st_4.add(9)"
   ]
  },
  {
   "cell_type": "code",
   "execution_count": null,
   "id": "4f6f9dbe",
   "metadata": {},
   "outputs": [],
   "source": [
    "st_4"
   ]
  },
  {
   "cell_type": "code",
   "execution_count": null,
   "id": "7d83b5ac",
   "metadata": {},
   "outputs": [],
   "source": [
    "st_4.update([6,8,10])"
   ]
  },
  {
   "cell_type": "code",
   "execution_count": null,
   "id": "c5a153cb",
   "metadata": {},
   "outputs": [],
   "source": [
    "st_4"
   ]
  },
  {
   "cell_type": "code",
   "execution_count": null,
   "id": "b58f5678",
   "metadata": {},
   "outputs": [],
   "source": [
    "st_4.remove(100)"
   ]
  },
  {
   "cell_type": "code",
   "execution_count": null,
   "id": "7e39156a",
   "metadata": {},
   "outputs": [],
   "source": [
    "st_4"
   ]
  },
  {
   "cell_type": "code",
   "execution_count": null,
   "id": "0dc5125f",
   "metadata": {},
   "outputs": [],
   "source": [
    "a = {1,2,3,4,5}"
   ]
  },
  {
   "cell_type": "code",
   "execution_count": null,
   "id": "252e106d",
   "metadata": {},
   "outputs": [],
   "source": [
    "b = {4,5,6,7,8}"
   ]
  },
  {
   "cell_type": "code",
   "execution_count": null,
   "id": "1c8e5aed",
   "metadata": {},
   "outputs": [],
   "source": [
    "# Union -\n",
    "\n",
    "a.union(b)"
   ]
  },
  {
   "cell_type": "code",
   "execution_count": null,
   "id": "140ab1f6",
   "metadata": {},
   "outputs": [],
   "source": [
    "a | b"
   ]
  },
  {
   "cell_type": "code",
   "execution_count": null,
   "id": "12d08c11",
   "metadata": {},
   "outputs": [],
   "source": [
    "# Intersection\n",
    "\n",
    "a.intersection(b)"
   ]
  },
  {
   "cell_type": "code",
   "execution_count": null,
   "id": "7b234a8a",
   "metadata": {},
   "outputs": [],
   "source": [
    "a & b"
   ]
  },
  {
   "cell_type": "code",
   "execution_count": null,
   "id": "99dc92e9",
   "metadata": {},
   "outputs": [],
   "source": [
    "# difference\n",
    "\n",
    "a.difference(b)"
   ]
  },
  {
   "cell_type": "code",
   "execution_count": null,
   "id": "5dd17d6b",
   "metadata": {},
   "outputs": [],
   "source": [
    "a-b"
   ]
  },
  {
   "cell_type": "code",
   "execution_count": null,
   "id": "cbc6f78c",
   "metadata": {},
   "outputs": [],
   "source": [
    "b-a"
   ]
  },
  {
   "cell_type": "code",
   "execution_count": null,
   "id": "5e4d3ed2",
   "metadata": {},
   "outputs": [],
   "source": [
    "# Symmetric difference \n",
    "\n",
    "a.symmetric_difference(b)"
   ]
  },
  {
   "cell_type": "code",
   "execution_count": null,
   "id": "a6f26874",
   "metadata": {},
   "outputs": [],
   "source": [
    "a^b"
   ]
  },
  {
   "cell_type": "code",
   "execution_count": null,
   "id": "0c1790e9",
   "metadata": {},
   "outputs": [],
   "source": []
  }
 ],
 "metadata": {
  "kernelspec": {
   "display_name": "Python 3 (ipykernel)",
   "language": "python",
   "name": "python3"
  },
  "language_info": {
   "codemirror_mode": {
    "name": "ipython",
    "version": 3
   },
   "file_extension": ".py",
   "mimetype": "text/x-python",
   "name": "python",
   "nbconvert_exporter": "python",
   "pygments_lexer": "ipython3",
   "version": "3.9.12"
  }
 },
 "nbformat": 4,
 "nbformat_minor": 5
}
