{
 "cells": [
  {
   "cell_type": "code",
   "execution_count": 1,
   "id": "c755abe1",
   "metadata": {},
   "outputs": [],
   "source": [
    "x = 5"
   ]
  },
  {
   "cell_type": "code",
   "execution_count": 2,
   "id": "00302183",
   "metadata": {},
   "outputs": [
    {
     "data": {
      "text/plain": [
       "int"
      ]
     },
     "execution_count": 2,
     "metadata": {},
     "output_type": "execute_result"
    }
   ],
   "source": [
    "type(x)"
   ]
  },
  {
   "cell_type": "markdown",
   "id": "80ef15d2",
   "metadata": {},
   "source": [
    "# Data Structures\n",
    "* used to store mutiple values in a single variable\n",
    "### The four main data structures - \n",
    "* Lists\n",
    "* Tuples\n",
    "* Sets\n",
    "* Dictionaries"
   ]
  },
  {
   "cell_type": "markdown",
   "id": "9292c5e9",
   "metadata": {},
   "source": [
    "# Lists\n",
    "* Lists are mutable .\n",
    "* Lists are collections of items and is a most genaral version of seqenceing in python.\n",
    "* Lists are constructed [] and each and every elemnets are separated by ,(comma)."
   ]
  },
  {
   "cell_type": "markdown",
   "id": "39623072",
   "metadata": {},
   "source": [
    "### step1 : creation of list"
   ]
  },
  {
   "cell_type": "code",
   "execution_count": 3,
   "id": "62f518ad",
   "metadata": {},
   "outputs": [],
   "source": [
    "l = [1,2,3,5,4] "
   ]
  },
  {
   "cell_type": "code",
   "execution_count": 4,
   "id": "9ae6ebea",
   "metadata": {},
   "outputs": [
    {
     "data": {
      "text/plain": [
       "[1, 2, 3, 5, 4]"
      ]
     },
     "execution_count": 4,
     "metadata": {},
     "output_type": "execute_result"
    }
   ],
   "source": [
    "l"
   ]
  },
  {
   "cell_type": "code",
   "execution_count": 5,
   "id": "ac46e809",
   "metadata": {},
   "outputs": [],
   "source": [
    "st = {1,2,3,5,4}"
   ]
  },
  {
   "cell_type": "code",
   "execution_count": 6,
   "id": "e4704fc8",
   "metadata": {},
   "outputs": [
    {
     "data": {
      "text/plain": [
       "{1, 2, 3, 4, 5}"
      ]
     },
     "execution_count": 6,
     "metadata": {},
     "output_type": "execute_result"
    }
   ],
   "source": [
    "st"
   ]
  },
  {
   "cell_type": "code",
   "execution_count": 7,
   "id": "8e3fbcaf",
   "metadata": {},
   "outputs": [],
   "source": [
    "l1 = [\"a\",\"b\",\"c\",\"d\"]"
   ]
  },
  {
   "cell_type": "code",
   "execution_count": 8,
   "id": "69299fbe",
   "metadata": {},
   "outputs": [
    {
     "data": {
      "text/plain": [
       "['a', 'b', 'c', 'd']"
      ]
     },
     "execution_count": 8,
     "metadata": {},
     "output_type": "execute_result"
    }
   ],
   "source": [
    "l1"
   ]
  },
  {
   "cell_type": "code",
   "execution_count": 9,
   "id": "e56a4114",
   "metadata": {},
   "outputs": [
    {
     "data": {
      "text/plain": [
       "list"
      ]
     },
     "execution_count": 9,
     "metadata": {},
     "output_type": "execute_result"
    }
   ],
   "source": [
    "type(l)"
   ]
  },
  {
   "cell_type": "code",
   "execution_count": 10,
   "id": "8af2ee3e",
   "metadata": {},
   "outputs": [
    {
     "data": {
      "text/plain": [
       "list"
      ]
     },
     "execution_count": 10,
     "metadata": {},
     "output_type": "execute_result"
    }
   ],
   "source": [
    "type(l1)"
   ]
  },
  {
   "cell_type": "code",
   "execution_count": 11,
   "id": "5f796445",
   "metadata": {},
   "outputs": [],
   "source": [
    "l2 = [1,2,3.14,\"a\",\"B\",True]"
   ]
  },
  {
   "cell_type": "code",
   "execution_count": 12,
   "id": "80acff06",
   "metadata": {},
   "outputs": [
    {
     "data": {
      "text/plain": [
       "[1, 2, 3.14, 'a', 'B', True]"
      ]
     },
     "execution_count": 12,
     "metadata": {},
     "output_type": "execute_result"
    }
   ],
   "source": [
    "l2"
   ]
  },
  {
   "cell_type": "code",
   "execution_count": 13,
   "id": "fb6e428d",
   "metadata": {},
   "outputs": [
    {
     "data": {
      "text/plain": [
       "list"
      ]
     },
     "execution_count": 13,
     "metadata": {},
     "output_type": "execute_result"
    }
   ],
   "source": [
    "type(l2)"
   ]
  },
  {
   "cell_type": "code",
   "execution_count": 14,
   "id": "55f0afcf",
   "metadata": {},
   "outputs": [],
   "source": [
    "l3 = [l1,l2]"
   ]
  },
  {
   "cell_type": "code",
   "execution_count": 15,
   "id": "24fcd3fc",
   "metadata": {},
   "outputs": [
    {
     "data": {
      "text/plain": [
       "[['a', 'b', 'c', 'd'], [1, 2, 3.14, 'a', 'B', True]]"
      ]
     },
     "execution_count": 15,
     "metadata": {},
     "output_type": "execute_result"
    }
   ],
   "source": [
    "l3"
   ]
  },
  {
   "cell_type": "markdown",
   "id": "a5d7b278",
   "metadata": {},
   "source": [
    "### step2 : Extracting the informations from the lists"
   ]
  },
  {
   "cell_type": "markdown",
   "id": "5c997601",
   "metadata": {},
   "source": [
    "* Indexing works like strings .\n",
    "* A list index refers to location of an elemnets of a list.\n",
    "* Remember the indexing begain with zero(0) in python.\n",
    "* The first element is assign with index zero(0), the second element is assign with  one(1) and so on and so forth\n",
    "* \n",
    "* We can use : to performs slicing which grabs everything upto its designated points\n",
    "* The starting index is specified on left of the : and the ending index is specified right of : \n",
    "* Remeber the element located right of the index is not inclueded "
   ]
  },
  {
   "cell_type": "code",
   "execution_count": 16,
   "id": "56e56d10",
   "metadata": {},
   "outputs": [
    {
     "data": {
      "text/plain": [
       "['a', 'b', 'c', 'd']"
      ]
     },
     "execution_count": 16,
     "metadata": {},
     "output_type": "execute_result"
    }
   ],
   "source": [
    "l1"
   ]
  },
  {
   "cell_type": "code",
   "execution_count": 17,
   "id": "4b31a1d3",
   "metadata": {},
   "outputs": [
    {
     "data": {
      "text/plain": [
       "'c'"
      ]
     },
     "execution_count": 17,
     "metadata": {},
     "output_type": "execute_result"
    }
   ],
   "source": [
    "l1[2]"
   ]
  },
  {
   "cell_type": "code",
   "execution_count": 18,
   "id": "5dbebcb9",
   "metadata": {},
   "outputs": [
    {
     "data": {
      "text/plain": [
       "'a'"
      ]
     },
     "execution_count": 18,
     "metadata": {},
     "output_type": "execute_result"
    }
   ],
   "source": [
    "l1[0]"
   ]
  },
  {
   "cell_type": "code",
   "execution_count": 19,
   "id": "b0a87e73",
   "metadata": {},
   "outputs": [
    {
     "data": {
      "text/plain": [
       "'b'"
      ]
     },
     "execution_count": 19,
     "metadata": {},
     "output_type": "execute_result"
    }
   ],
   "source": [
    "l1[-3]"
   ]
  },
  {
   "cell_type": "code",
   "execution_count": 20,
   "id": "4eadc399",
   "metadata": {},
   "outputs": [
    {
     "data": {
      "text/plain": [
       "['a', 'b']"
      ]
     },
     "execution_count": 20,
     "metadata": {},
     "output_type": "execute_result"
    }
   ],
   "source": [
    "l1[0:2]"
   ]
  },
  {
   "cell_type": "code",
   "execution_count": 21,
   "id": "a181bddf",
   "metadata": {},
   "outputs": [
    {
     "data": {
      "text/plain": [
       "['a', 'b', 'c']"
      ]
     },
     "execution_count": 21,
     "metadata": {},
     "output_type": "execute_result"
    }
   ],
   "source": [
    "l1[:3]"
   ]
  },
  {
   "cell_type": "code",
   "execution_count": 22,
   "id": "90ef3c69",
   "metadata": {},
   "outputs": [
    {
     "data": {
      "text/plain": [
       "['a', 'c']"
      ]
     },
     "execution_count": 22,
     "metadata": {},
     "output_type": "execute_result"
    }
   ],
   "source": [
    "l1[0:4:2]"
   ]
  },
  {
   "cell_type": "code",
   "execution_count": 23,
   "id": "470876e5",
   "metadata": {},
   "outputs": [
    {
     "ename": "IndexError",
     "evalue": "list index out of range",
     "output_type": "error",
     "traceback": [
      "\u001b[1;31m---------------------------------------------------------------------------\u001b[0m",
      "\u001b[1;31mIndexError\u001b[0m                                Traceback (most recent call last)",
      "Input \u001b[1;32mIn [23]\u001b[0m, in \u001b[0;36m<cell line: 1>\u001b[1;34m()\u001b[0m\n\u001b[1;32m----> 1\u001b[0m \u001b[43ml1\u001b[49m\u001b[43m[\u001b[49m\u001b[38;5;241;43m6\u001b[39;49m\u001b[43m]\u001b[49m\n",
      "\u001b[1;31mIndexError\u001b[0m: list index out of range"
     ]
    }
   ],
   "source": [
    "l1[6]"
   ]
  },
  {
   "cell_type": "markdown",
   "id": "e4e748e5",
   "metadata": {},
   "source": [
    "### STEP 3 : ADDING OR REMOVING ELEMENT"
   ]
  },
  {
   "cell_type": "code",
   "execution_count": 25,
   "id": "b242bfc1",
   "metadata": {},
   "outputs": [],
   "source": [
    "l6 = [1,2,3,4,5]"
   ]
  },
  {
   "cell_type": "code",
   "execution_count": 26,
   "id": "54b38edd",
   "metadata": {},
   "outputs": [],
   "source": [
    "# Append - used it to add a single element to your list.\n",
    "\n",
    "l6.append(6)"
   ]
  },
  {
   "cell_type": "code",
   "execution_count": 28,
   "id": "3b3932f1",
   "metadata": {},
   "outputs": [
    {
     "data": {
      "text/plain": [
       "3"
      ]
     },
     "execution_count": 28,
     "metadata": {},
     "output_type": "execute_result"
    }
   ],
   "source": [
    "l6[2]"
   ]
  },
  {
   "cell_type": "code",
   "execution_count": null,
   "id": "d9236f26",
   "metadata": {},
   "outputs": [],
   "source": [
    "l6.append(7,8)"
   ]
  },
  {
   "cell_type": "code",
   "execution_count": null,
   "id": "9824a953",
   "metadata": {},
   "outputs": [],
   "source": [
    "l6.append([7,8])"
   ]
  },
  {
   "cell_type": "code",
   "execution_count": null,
   "id": "99eae45f",
   "metadata": {},
   "outputs": [],
   "source": [
    "l6"
   ]
  },
  {
   "cell_type": "code",
   "execution_count": null,
   "id": "f5ce07f2",
   "metadata": {},
   "outputs": [],
   "source": [
    "# Extend - used to add mutiple elements\n",
    "\n",
    "l6.extend(9,10)"
   ]
  },
  {
   "cell_type": "code",
   "execution_count": null,
   "id": "48df3300",
   "metadata": {},
   "outputs": [],
   "source": [
    "l6.extend([9,10])"
   ]
  },
  {
   "cell_type": "code",
   "execution_count": null,
   "id": "d129a009",
   "metadata": {},
   "outputs": [],
   "source": [
    "l6"
   ]
  },
  {
   "cell_type": "code",
   "execution_count": null,
   "id": "1d8cb2c7",
   "metadata": {},
   "outputs": [],
   "source": [
    "# Insert - adding a element at the desired index position\n",
    "\n",
    "l6.insert(0,0)\n"
   ]
  },
  {
   "cell_type": "code",
   "execution_count": null,
   "id": "7c795c1d",
   "metadata": {},
   "outputs": [],
   "source": [
    "l6"
   ]
  },
  {
   "cell_type": "code",
   "execution_count": null,
   "id": "d2bb925e",
   "metadata": {},
   "outputs": [],
   "source": [
    "# POP - used it to remove element by its index position.\n",
    "\n",
    "l6.pop(-3)"
   ]
  },
  {
   "cell_type": "code",
   "execution_count": null,
   "id": "c0542229",
   "metadata": {},
   "outputs": [],
   "source": [
    "l6"
   ]
  },
  {
   "cell_type": "code",
   "execution_count": null,
   "id": "48920cff",
   "metadata": {},
   "outputs": [],
   "source": [
    "l6.pop()"
   ]
  },
  {
   "cell_type": "code",
   "execution_count": null,
   "id": "9bff4516",
   "metadata": {},
   "outputs": [],
   "source": [
    "l6.pop()"
   ]
  },
  {
   "cell_type": "code",
   "execution_count": null,
   "id": "55d9eaab",
   "metadata": {},
   "outputs": [],
   "source": [
    "l6"
   ]
  },
  {
   "cell_type": "code",
   "execution_count": null,
   "id": "fc5c52c4",
   "metadata": {},
   "outputs": [],
   "source": [
    "# Remove - Removes an element by its value.\n",
    "\n",
    "l6.remove(0)"
   ]
  },
  {
   "cell_type": "code",
   "execution_count": null,
   "id": "73116d8e",
   "metadata": {},
   "outputs": [],
   "source": [
    "l6"
   ]
  },
  {
   "cell_type": "code",
   "execution_count": null,
   "id": "6f9718f8",
   "metadata": {},
   "outputs": [],
   "source": [
    "l7 = [\"a\",\"b\",\"c\"]"
   ]
  },
  {
   "cell_type": "code",
   "execution_count": null,
   "id": "2b853766",
   "metadata": {},
   "outputs": [],
   "source": [
    "l7.pop(-2)"
   ]
  },
  {
   "cell_type": "code",
   "execution_count": null,
   "id": "795ec57f",
   "metadata": {},
   "outputs": [],
   "source": [
    "l7"
   ]
  },
  {
   "cell_type": "code",
   "execution_count": null,
   "id": "283b3f60",
   "metadata": {},
   "outputs": [],
   "source": [
    "l7.remove(\"a\")"
   ]
  },
  {
   "cell_type": "code",
   "execution_count": null,
   "id": "861abc0b",
   "metadata": {},
   "outputs": [],
   "source": [
    "l7"
   ]
  },
  {
   "cell_type": "code",
   "execution_count": null,
   "id": "94d9a065",
   "metadata": {},
   "outputs": [],
   "source": [
    "l6"
   ]
  },
  {
   "cell_type": "code",
   "execution_count": null,
   "id": "65b83e9b",
   "metadata": {},
   "outputs": [],
   "source": [
    "l6.pop(1,2)"
   ]
  },
  {
   "cell_type": "code",
   "execution_count": null,
   "id": "ddb58beb",
   "metadata": {},
   "outputs": [],
   "source": [
    "l6.pop([1,2])"
   ]
  },
  {
   "cell_type": "code",
   "execution_count": null,
   "id": "70f8dd3a",
   "metadata": {},
   "outputs": [],
   "source": [
    "l6.remove(1,2)"
   ]
  },
  {
   "cell_type": "code",
   "execution_count": null,
   "id": "f2952818",
   "metadata": {},
   "outputs": [],
   "source": [
    "l6.remove([1,2])"
   ]
  },
  {
   "cell_type": "markdown",
   "id": "f3ecb9d4",
   "metadata": {},
   "source": [
    "### STEP 4 - FUNCTIONS OR METHODS"
   ]
  },
  {
   "cell_type": "code",
   "execution_count": null,
   "id": "e2b61474",
   "metadata": {},
   "outputs": [],
   "source": [
    "type(l6)"
   ]
  },
  {
   "cell_type": "code",
   "execution_count": null,
   "id": "b69b6704",
   "metadata": {},
   "outputs": [],
   "source": [
    "len(l6)"
   ]
  },
  {
   "cell_type": "code",
   "execution_count": null,
   "id": "86029a22",
   "metadata": {},
   "outputs": [],
   "source": [
    "min(l6)"
   ]
  },
  {
   "cell_type": "code",
   "execution_count": null,
   "id": "a77a6ebd",
   "metadata": {},
   "outputs": [],
   "source": [
    "l6"
   ]
  },
  {
   "cell_type": "code",
   "execution_count": null,
   "id": "5b54d1d8",
   "metadata": {},
   "outputs": [],
   "source": [
    "max(l6)"
   ]
  },
  {
   "cell_type": "code",
   "execution_count": null,
   "id": "003eb219",
   "metadata": {},
   "outputs": [],
   "source": [
    "sum(l6)"
   ]
  },
  {
   "cell_type": "code",
   "execution_count": null,
   "id": "0b21bc2e",
   "metadata": {},
   "outputs": [],
   "source": [
    "l7"
   ]
  },
  {
   "cell_type": "code",
   "execution_count": null,
   "id": "cc84da5f",
   "metadata": {},
   "outputs": [],
   "source": [
    "l7.extend([\"d\",\"e\"])"
   ]
  },
  {
   "cell_type": "code",
   "execution_count": null,
   "id": "cebff481",
   "metadata": {},
   "outputs": [],
   "source": [
    "l7"
   ]
  },
  {
   "cell_type": "code",
   "execution_count": null,
   "id": "0b11e4d5",
   "metadata": {},
   "outputs": [],
   "source": [
    "min(l7)"
   ]
  },
  {
   "cell_type": "code",
   "execution_count": null,
   "id": "cd3cd186",
   "metadata": {},
   "outputs": [],
   "source": [
    "max(l7)"
   ]
  },
  {
   "cell_type": "code",
   "execution_count": null,
   "id": "ac267b19",
   "metadata": {},
   "outputs": [],
   "source": [
    "sum(l7)"
   ]
  },
  {
   "cell_type": "code",
   "execution_count": null,
   "id": "b5c8f633",
   "metadata": {},
   "outputs": [],
   "source": [
    "l8 = l6+l7 "
   ]
  },
  {
   "cell_type": "code",
   "execution_count": null,
   "id": "3dbdf0ae",
   "metadata": {},
   "outputs": [],
   "source": [
    "l8"
   ]
  },
  {
   "cell_type": "code",
   "execution_count": null,
   "id": "75662256",
   "metadata": {},
   "outputs": [],
   "source": [
    "s1 =\"a\"\n",
    "s2 = \"b\""
   ]
  },
  {
   "cell_type": "code",
   "execution_count": null,
   "id": "1800234e",
   "metadata": {},
   "outputs": [],
   "source": [
    "s3 = s1+s2"
   ]
  },
  {
   "cell_type": "code",
   "execution_count": null,
   "id": "2a26aac5",
   "metadata": {},
   "outputs": [],
   "source": [
    "s3"
   ]
  },
  {
   "cell_type": "code",
   "execution_count": null,
   "id": "2001f8e9",
   "metadata": {},
   "outputs": [],
   "source": [
    "min(l8)"
   ]
  },
  {
   "cell_type": "code",
   "execution_count": null,
   "id": "97640685",
   "metadata": {},
   "outputs": [],
   "source": [
    "max(l8)"
   ]
  },
  {
   "cell_type": "code",
   "execution_count": null,
   "id": "659929b3",
   "metadata": {},
   "outputs": [],
   "source": [
    "l6.count(1)"
   ]
  },
  {
   "cell_type": "code",
   "execution_count": null,
   "id": "2aaa8075",
   "metadata": {},
   "outputs": [],
   "source": [
    "l6.count(2)"
   ]
  },
  {
   "cell_type": "code",
   "execution_count": null,
   "id": "3ecd42cd",
   "metadata": {},
   "outputs": [],
   "source": [
    "l8.index(\"c\")"
   ]
  },
  {
   "cell_type": "code",
   "execution_count": null,
   "id": "2b3f41dc",
   "metadata": {},
   "outputs": [],
   "source": [
    "l8"
   ]
  },
  {
   "cell_type": "code",
   "execution_count": null,
   "id": "f04ebbc9",
   "metadata": {},
   "outputs": [],
   "source": [
    "l8.reverse()"
   ]
  },
  {
   "cell_type": "code",
   "execution_count": null,
   "id": "5034923c",
   "metadata": {},
   "outputs": [],
   "source": [
    "l8"
   ]
  },
  {
   "cell_type": "code",
   "execution_count": null,
   "id": "a98bf3a6",
   "metadata": {},
   "outputs": [],
   "source": [
    "l8(1)"
   ]
  },
  {
   "cell_type": "code",
   "execution_count": null,
   "id": "5f85475c",
   "metadata": {},
   "outputs": [],
   "source": [
    "# LIST OPERATORS \n",
    "\n",
    "l6+l7"
   ]
  },
  {
   "cell_type": "code",
   "execution_count": null,
   "id": "75b31370",
   "metadata": {},
   "outputs": [],
   "source": [
    "l6*2"
   ]
  },
  {
   "cell_type": "code",
   "execution_count": null,
   "id": "74dd1408",
   "metadata": {},
   "outputs": [],
   "source": [
    "l6+[7]"
   ]
  },
  {
   "cell_type": "code",
   "execution_count": null,
   "id": "0faafef1",
   "metadata": {},
   "outputs": [],
   "source": [
    "l6"
   ]
  },
  {
   "cell_type": "code",
   "execution_count": null,
   "id": "39ef31cf",
   "metadata": {},
   "outputs": [],
   "source": [
    "l6 = l6+[7]"
   ]
  },
  {
   "cell_type": "code",
   "execution_count": null,
   "id": "621838aa",
   "metadata": {},
   "outputs": [],
   "source": [
    "l6"
   ]
  },
  {
   "cell_type": "markdown",
   "id": "5408d3fc",
   "metadata": {},
   "source": [
    "# NESTED LIST\n",
    "\n"
   ]
  },
  {
   "cell_type": "code",
   "execution_count": null,
   "id": "7cc6f119",
   "metadata": {},
   "outputs": [],
   "source": [
    "l6"
   ]
  },
  {
   "cell_type": "code",
   "execution_count": null,
   "id": "36648e53",
   "metadata": {},
   "outputs": [],
   "source": [
    "l7"
   ]
  },
  {
   "cell_type": "code",
   "execution_count": null,
   "id": "73176f49",
   "metadata": {},
   "outputs": [],
   "source": [
    "l8"
   ]
  },
  {
   "cell_type": "code",
   "execution_count": null,
   "id": "18b2e324",
   "metadata": {},
   "outputs": [],
   "source": [
    "l9 = [l6,l7]"
   ]
  },
  {
   "cell_type": "code",
   "execution_count": null,
   "id": "52dbb775",
   "metadata": {},
   "outputs": [],
   "source": [
    "l9"
   ]
  },
  {
   "cell_type": "code",
   "execution_count": null,
   "id": "f501107c",
   "metadata": {},
   "outputs": [],
   "source": [
    "len(l9)"
   ]
  },
  {
   "cell_type": "code",
   "execution_count": null,
   "id": "46916496",
   "metadata": {},
   "outputs": [],
   "source": [
    "l6.append(l8)"
   ]
  },
  {
   "cell_type": "code",
   "execution_count": null,
   "id": "c1c3e45a",
   "metadata": {},
   "outputs": [],
   "source": [
    "l6"
   ]
  },
  {
   "cell_type": "code",
   "execution_count": null,
   "id": "1ce61b3a",
   "metadata": {},
   "outputs": [],
   "source": [
    "len(l6)"
   ]
  },
  {
   "cell_type": "code",
   "execution_count": null,
   "id": "017c5f37",
   "metadata": {},
   "outputs": [],
   "source": [
    "l9"
   ]
  },
  {
   "cell_type": "code",
   "execution_count": null,
   "id": "33861fdf",
   "metadata": {},
   "outputs": [],
   "source": [
    "l9[-1]"
   ]
  },
  {
   "cell_type": "code",
   "execution_count": null,
   "id": "aca0d696",
   "metadata": {},
   "outputs": [],
   "source": [
    "l9[-1][0]"
   ]
  },
  {
   "cell_type": "code",
   "execution_count": null,
   "id": "b9fdd07e",
   "metadata": {},
   "outputs": [],
   "source": [
    "l9[0]"
   ]
  },
  {
   "cell_type": "code",
   "execution_count": null,
   "id": "bff6d28a",
   "metadata": {},
   "outputs": [],
   "source": [
    "len(l9[0])"
   ]
  },
  {
   "cell_type": "code",
   "execution_count": null,
   "id": "1c404678",
   "metadata": {},
   "outputs": [],
   "source": [
    "l9[0][-1]"
   ]
  },
  {
   "cell_type": "code",
   "execution_count": null,
   "id": "955fcd40",
   "metadata": {},
   "outputs": [],
   "source": [
    "l9[0][-1][1]"
   ]
  },
  {
   "cell_type": "code",
   "execution_count": null,
   "id": "45cf716d",
   "metadata": {},
   "outputs": [],
   "source": [
    "l9.index(\"d\")"
   ]
  },
  {
   "cell_type": "code",
   "execution_count": null,
   "id": "ad7a5619",
   "metadata": {},
   "outputs": [],
   "source": [
    "l9[0].index(\"d\")"
   ]
  },
  {
   "cell_type": "code",
   "execution_count": null,
   "id": "a428f233",
   "metadata": {},
   "outputs": [],
   "source": [
    "l9[0][-1].index(\"d\")"
   ]
  },
  {
   "cell_type": "code",
   "execution_count": null,
   "id": "7c859d19",
   "metadata": {},
   "outputs": [],
   "source": [
    "a=[1,2,3,4,5,l9:[4,5,0]]"
   ]
  },
  {
   "cell_type": "code",
   "execution_count": null,
   "id": "be2b8984",
   "metadata": {},
   "outputs": [],
   "source": [
    "l9"
   ]
  },
  {
   "cell_type": "code",
   "execution_count": null,
   "id": "ad0c0db3",
   "metadata": {},
   "outputs": [],
   "source": [
    "len(l9)"
   ]
  },
  {
   "cell_type": "code",
   "execution_count": null,
   "id": "0ecebe24",
   "metadata": {},
   "outputs": [],
   "source": [
    "l9[0][1]"
   ]
  },
  {
   "cell_type": "code",
   "execution_count": null,
   "id": "0bfb7b51",
   "metadata": {},
   "outputs": [],
   "source": [
    "l9[0][-1][2]"
   ]
  },
  {
   "cell_type": "code",
   "execution_count": null,
   "id": "969644ef",
   "metadata": {},
   "outputs": [],
   "source": []
  }
 ],
 "metadata": {
  "kernelspec": {
   "display_name": "Python 3 (ipykernel)",
   "language": "python",
   "name": "python3"
  },
  "language_info": {
   "codemirror_mode": {
    "name": "ipython",
    "version": 3
   },
   "file_extension": ".py",
   "mimetype": "text/x-python",
   "name": "python",
   "nbconvert_exporter": "python",
   "pygments_lexer": "ipython3",
   "version": "3.9.12"
  }
 },
 "nbformat": 4,
 "nbformat_minor": 5
}
