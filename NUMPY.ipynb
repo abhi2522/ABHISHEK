{
 "cells": [
  {
   "cell_type": "markdown",
   "id": "78531daa",
   "metadata": {},
   "source": [
    "* Numpy consists of multidimensional array objects and collection of routines or function  for processing the array."
   ]
  },
  {
   "cell_type": "code",
   "execution_count": 1,
   "id": "c925991e",
   "metadata": {},
   "outputs": [],
   "source": [
    "#Statement to import the numpylibrary\n",
    "import numpy as np"
   ]
  },
  {
   "cell_type": "code",
   "execution_count": 2,
   "id": "d4b89599",
   "metadata": {},
   "outputs": [],
   "source": [
    "#one dimensional array\n",
    "prime_array=np.array([1,2,3,4,5]) #limitation :  numpy array have same type item of data like : only int or only float only or only str"
   ]
  },
  {
   "cell_type": "code",
   "execution_count": 3,
   "id": "e3ff651b",
   "metadata": {},
   "outputs": [
    {
     "name": "stdout",
     "output_type": "stream",
     "text": [
      "[1 2 3 4 5]\n"
     ]
    }
   ],
   "source": [
    "print(prime_array)"
   ]
  },
  {
   "cell_type": "code",
   "execution_count": 4,
   "id": "56b4ec40",
   "metadata": {},
   "outputs": [
    {
     "data": {
      "text/plain": [
       "numpy.ndarray"
      ]
     },
     "execution_count": 4,
     "metadata": {},
     "output_type": "execute_result"
    }
   ],
   "source": [
    "type(prime_array)"
   ]
  },
  {
   "cell_type": "code",
   "execution_count": 5,
   "id": "1acf148d",
   "metadata": {},
   "outputs": [
    {
     "data": {
      "text/plain": [
       "(5,)"
      ]
     },
     "execution_count": 5,
     "metadata": {},
     "output_type": "execute_result"
    }
   ],
   "source": [
    "prime_array.shape"
   ]
  },
  {
   "cell_type": "code",
   "execution_count": 6,
   "id": "1eec47d8",
   "metadata": {},
   "outputs": [],
   "source": [
    "# 2D array\n",
    "two_dimensional = np.array([[3,4,7],[4,6,9]])"
   ]
  },
  {
   "cell_type": "code",
   "execution_count": 7,
   "id": "140767ce",
   "metadata": {},
   "outputs": [
    {
     "data": {
      "text/plain": [
       "array([[3, 4, 7],\n",
       "       [4, 6, 9]])"
      ]
     },
     "execution_count": 7,
     "metadata": {},
     "output_type": "execute_result"
    }
   ],
   "source": [
    "two_dimensional"
   ]
  },
  {
   "cell_type": "code",
   "execution_count": 8,
   "id": "cedeb241",
   "metadata": {},
   "outputs": [
    {
     "data": {
      "text/plain": [
       "(2, 3)"
      ]
     },
     "execution_count": 8,
     "metadata": {},
     "output_type": "execute_result"
    }
   ],
   "source": [
    "two_dimensional.shape"
   ]
  },
  {
   "cell_type": "code",
   "execution_count": 9,
   "id": "dda8d034",
   "metadata": {},
   "outputs": [],
   "source": [
    "#3d array\n",
    "third_Arry = np.array([[[3,5,5],[9,6,8]],\n",
    "                       [[8,9,6],[8,9,9]]])"
   ]
  },
  {
   "cell_type": "code",
   "execution_count": 10,
   "id": "8c8b1d5b",
   "metadata": {},
   "outputs": [
    {
     "data": {
      "text/plain": [
       "(2, 2, 3)"
      ]
     },
     "execution_count": 10,
     "metadata": {},
     "output_type": "execute_result"
    }
   ],
   "source": [
    "third_Arry.shape"
   ]
  },
  {
   "cell_type": "code",
   "execution_count": 11,
   "id": "57b7adbe",
   "metadata": {},
   "outputs": [
    {
     "name": "stdout",
     "output_type": "stream",
     "text": [
      "[[[3 5 5]\n",
      "  [9 6 8]]\n",
      "\n",
      " [[8 9 6]\n",
      "  [8 9 9]]]\n"
     ]
    }
   ],
   "source": [
    "print(third_Arry)"
   ]
  },
  {
   "cell_type": "code",
   "execution_count": 12,
   "id": "62b9d437",
   "metadata": {},
   "outputs": [],
   "source": [
    "a = np.array([1,2,3,4,5])"
   ]
  },
  {
   "cell_type": "code",
   "execution_count": 13,
   "id": "7ee3dcab",
   "metadata": {},
   "outputs": [
    {
     "data": {
      "text/plain": [
       "array([1, 2, 3, 4, 5])"
      ]
     },
     "execution_count": 13,
     "metadata": {},
     "output_type": "execute_result"
    }
   ],
   "source": [
    "a"
   ]
  },
  {
   "cell_type": "code",
   "execution_count": 14,
   "id": "43820f63",
   "metadata": {},
   "outputs": [
    {
     "name": "stdout",
     "output_type": "stream",
     "text": [
      "[1 2 3 4 5]\n"
     ]
    }
   ],
   "source": [
    "print(a)"
   ]
  },
  {
   "cell_type": "code",
   "execution_count": 15,
   "id": "9eaee329",
   "metadata": {},
   "outputs": [],
   "source": [
    "r_a = np.random.random((4,3)) #1darray"
   ]
  },
  {
   "cell_type": "code",
   "execution_count": 16,
   "id": "aee42d36",
   "metadata": {},
   "outputs": [
    {
     "data": {
      "text/plain": [
       "array([[0.60005002, 0.12122719, 0.07537179],\n",
       "       [0.18516089, 0.06265007, 0.19689876],\n",
       "       [0.89774081, 0.97628368, 0.95534587],\n",
       "       [0.44721281, 0.95315478, 0.01707195]])"
      ]
     },
     "execution_count": 16,
     "metadata": {},
     "output_type": "execute_result"
    }
   ],
   "source": [
    "r_a"
   ]
  },
  {
   "cell_type": "code",
   "execution_count": 17,
   "id": "4bb3da03",
   "metadata": {},
   "outputs": [],
   "source": [
    "r_a = np.random.randint(5,50,(4,3)) #2d array"
   ]
  },
  {
   "cell_type": "code",
   "execution_count": 18,
   "id": "7d19ebe9",
   "metadata": {},
   "outputs": [
    {
     "data": {
      "text/plain": [
       "array([[41, 42, 29],\n",
       "       [27,  7, 12],\n",
       "       [13, 38, 40],\n",
       "       [42, 14, 40]])"
      ]
     },
     "execution_count": 18,
     "metadata": {},
     "output_type": "execute_result"
    }
   ],
   "source": [
    "r_a"
   ]
  },
  {
   "cell_type": "code",
   "execution_count": 19,
   "id": "ea9f3575",
   "metadata": {},
   "outputs": [],
   "source": [
    "r_a = np.random.randint(5,50,(2,4,3)) #3darray"
   ]
  },
  {
   "cell_type": "code",
   "execution_count": 20,
   "id": "a49b3cb2",
   "metadata": {},
   "outputs": [
    {
     "data": {
      "text/plain": [
       "array([[[40, 17, 32],\n",
       "        [20, 25,  5],\n",
       "        [21, 33, 40],\n",
       "        [47, 15, 48]],\n",
       "\n",
       "       [[48, 26, 49],\n",
       "        [36, 18,  7],\n",
       "        [37,  5,  8],\n",
       "        [36, 35, 35]]])"
      ]
     },
     "execution_count": 20,
     "metadata": {},
     "output_type": "execute_result"
    }
   ],
   "source": [
    "r_a"
   ]
  },
  {
   "cell_type": "code",
   "execution_count": 21,
   "id": "29fa62b5",
   "metadata": {},
   "outputs": [],
   "source": [
    "# Numpy array attributes"
   ]
  },
  {
   "cell_type": "code",
   "execution_count": 22,
   "id": "6fd21988",
   "metadata": {},
   "outputs": [
    {
     "data": {
      "text/plain": [
       "(2, 4, 3)"
      ]
     },
     "execution_count": 22,
     "metadata": {},
     "output_type": "execute_result"
    }
   ],
   "source": [
    "# ndarray.shape\n",
    "r_a.shape"
   ]
  },
  {
   "cell_type": "code",
   "execution_count": 23,
   "id": "3240a0cb",
   "metadata": {},
   "outputs": [
    {
     "data": {
      "text/plain": [
       "3"
      ]
     },
     "execution_count": 23,
     "metadata": {},
     "output_type": "execute_result"
    }
   ],
   "source": [
    "# ndarray.ndim  (number of dimemsions)\n",
    "\n",
    "r_a.ndim"
   ]
  },
  {
   "cell_type": "code",
   "execution_count": 24,
   "id": "ca49497c",
   "metadata": {},
   "outputs": [
    {
     "data": {
      "text/plain": [
       "24"
      ]
     },
     "execution_count": 24,
     "metadata": {},
     "output_type": "execute_result"
    }
   ],
   "source": [
    "# ndarray.size  (return number of elemnets that presents inside of your array)\n",
    "\n",
    "r_a.size"
   ]
  },
  {
   "cell_type": "code",
   "execution_count": 25,
   "id": "c8b5bdc8",
   "metadata": {},
   "outputs": [
    {
     "data": {
      "text/plain": [
       "dtype('int32')"
      ]
     },
     "execution_count": 25,
     "metadata": {},
     "output_type": "execute_result"
    }
   ],
   "source": [
    "#ndarray.dtype (datatype of elements )\n",
    "\n",
    "r_a.dtype"
   ]
  },
  {
   "cell_type": "code",
   "execution_count": 26,
   "id": "0a7d1dc6",
   "metadata": {},
   "outputs": [],
   "source": [
    "# Functinality of numpy of array"
   ]
  },
  {
   "cell_type": "code",
   "execution_count": 27,
   "id": "7e547101",
   "metadata": {},
   "outputs": [],
   "source": [
    "l = [1,2,3,4]"
   ]
  },
  {
   "cell_type": "code",
   "execution_count": 28,
   "id": "1b1157c1",
   "metadata": {},
   "outputs": [
    {
     "ename": "TypeError",
     "evalue": "can only concatenate list (not \"int\") to list",
     "output_type": "error",
     "traceback": [
      "\u001b[1;31m---------------------------------------------------------------------------\u001b[0m",
      "\u001b[1;31mTypeError\u001b[0m                                 Traceback (most recent call last)",
      "Input \u001b[1;32mIn [28]\u001b[0m, in \u001b[0;36m<cell line: 1>\u001b[1;34m()\u001b[0m\n\u001b[1;32m----> 1\u001b[0m \u001b[43ml\u001b[49m\u001b[38;5;241;43m+\u001b[39;49m\u001b[38;5;241;43m5\u001b[39;49m\n",
      "\u001b[1;31mTypeError\u001b[0m: can only concatenate list (not \"int\") to list"
     ]
    }
   ],
   "source": [
    "l+5  # not possible in list "
   ]
  },
  {
   "cell_type": "code",
   "execution_count": null,
   "id": "b4884515",
   "metadata": {},
   "outputs": [],
   "source": [
    "r_a+10"
   ]
  },
  {
   "cell_type": "code",
   "execution_count": null,
   "id": "57e996d8",
   "metadata": {},
   "outputs": [],
   "source": [
    "r_a*10      #elementwise opertaion in numpy"
   ]
  },
  {
   "cell_type": "code",
   "execution_count": null,
   "id": "7a232a1d",
   "metadata": {},
   "outputs": [],
   "source": [
    "r_a"
   ]
  },
  {
   "cell_type": "code",
   "execution_count": null,
   "id": "c65613d9",
   "metadata": {},
   "outputs": [],
   "source": [
    "r_a[0,2,1]"
   ]
  },
  {
   "cell_type": "code",
   "execution_count": null,
   "id": "bcaca4c8",
   "metadata": {},
   "outputs": [],
   "source": [
    "r_a[1,0:2,1:]"
   ]
  },
  {
   "cell_type": "code",
   "execution_count": null,
   "id": "8d91b5cf",
   "metadata": {},
   "outputs": [],
   "source": [
    "r_a[1:2,0:2,1:]"
   ]
  },
  {
   "cell_type": "code",
   "execution_count": null,
   "id": "fdbbb3b3",
   "metadata": {},
   "outputs": [],
   "source": [
    "r_a"
   ]
  },
  {
   "cell_type": "code",
   "execution_count": null,
   "id": "3243dc8b",
   "metadata": {},
   "outputs": [],
   "source": [
    "r_a[0,1:,1]"
   ]
  },
  {
   "cell_type": "code",
   "execution_count": null,
   "id": "bf9e982f",
   "metadata": {},
   "outputs": [],
   "source": [
    "r_a[0:1,1:,1:2]"
   ]
  },
  {
   "cell_type": "code",
   "execution_count": null,
   "id": "f81ad559",
   "metadata": {},
   "outputs": [],
   "source": [
    "import numpy as np"
   ]
  },
  {
   "cell_type": "markdown",
   "id": "3c289d90",
   "metadata": {},
   "source": [
    "# step 4: Numpy functions or method"
   ]
  },
  {
   "cell_type": "code",
   "execution_count": 30,
   "id": "9901daff",
   "metadata": {},
   "outputs": [],
   "source": [
    " a2 = np.random.randint(10,100,(4,3))"
   ]
  },
  {
   "cell_type": "code",
   "execution_count": 31,
   "id": "91d4a497",
   "metadata": {},
   "outputs": [
    {
     "data": {
      "text/plain": [
       "array([[87, 12, 90],\n",
       "       [91, 34, 36],\n",
       "       [96, 24, 76],\n",
       "       [81, 21, 87]])"
      ]
     },
     "execution_count": 31,
     "metadata": {},
     "output_type": "execute_result"
    }
   ],
   "source": [
    "a2"
   ]
  },
  {
   "cell_type": "code",
   "execution_count": 32,
   "id": "6d4db94e",
   "metadata": {},
   "outputs": [
    {
     "data": {
      "text/plain": [
       "array([[87, 91, 96, 81],\n",
       "       [12, 34, 24, 21],\n",
       "       [90, 36, 76, 87]])"
      ]
     },
     "execution_count": 32,
     "metadata": {},
     "output_type": "execute_result"
    }
   ],
   "source": [
    "# Transpose\n",
    "\n",
    "np.transpose(a2)"
   ]
  },
  {
   "cell_type": "code",
   "execution_count": 33,
   "id": "29283879",
   "metadata": {},
   "outputs": [],
   "source": [
    "a2t = np.transpose(a2)"
   ]
  },
  {
   "cell_type": "code",
   "execution_count": 34,
   "id": "fff75dfe",
   "metadata": {},
   "outputs": [
    {
     "data": {
      "text/plain": [
       "array([[87, 91, 96, 81],\n",
       "       [12, 34, 24, 21],\n",
       "       [90, 36, 76, 87]])"
      ]
     },
     "execution_count": 34,
     "metadata": {},
     "output_type": "execute_result"
    }
   ],
   "source": [
    "a2t"
   ]
  },
  {
   "cell_type": "code",
   "execution_count": 35,
   "id": "496f09ba",
   "metadata": {},
   "outputs": [
    {
     "data": {
      "text/plain": [
       "(4, 3)"
      ]
     },
     "execution_count": 35,
     "metadata": {},
     "output_type": "execute_result"
    }
   ],
   "source": [
    "# Reshape\n",
    "\n",
    "a2.shape"
   ]
  },
  {
   "cell_type": "code",
   "execution_count": 36,
   "id": "4d4a3e5f",
   "metadata": {},
   "outputs": [
    {
     "data": {
      "text/plain": [
       "12"
      ]
     },
     "execution_count": 36,
     "metadata": {},
     "output_type": "execute_result"
    }
   ],
   "source": [
    "a2.size  #row*column = total number of element"
   ]
  },
  {
   "cell_type": "code",
   "execution_count": 37,
   "id": "5912cc95",
   "metadata": {},
   "outputs": [
    {
     "data": {
      "text/plain": [
       "array([[87, 12, 90, 91],\n",
       "       [34, 36, 96, 24],\n",
       "       [76, 81, 21, 87]])"
      ]
     },
     "execution_count": 37,
     "metadata": {},
     "output_type": "execute_result"
    }
   ],
   "source": [
    "np.reshape(a2,(3,4))"
   ]
  },
  {
   "cell_type": "code",
   "execution_count": 38,
   "id": "8781d6f3",
   "metadata": {},
   "outputs": [
    {
     "data": {
      "text/plain": [
       "array([[[87, 12],\n",
       "        [90, 91],\n",
       "        [34, 36]],\n",
       "\n",
       "       [[96, 24],\n",
       "        [76, 81],\n",
       "        [21, 87]]])"
      ]
     },
     "execution_count": 38,
     "metadata": {},
     "output_type": "execute_result"
    }
   ],
   "source": [
    "np.reshape(a2,(2,3,2))        #number of elements remain same"
   ]
  },
  {
   "cell_type": "code",
   "execution_count": 39,
   "id": "e7b1a236",
   "metadata": {},
   "outputs": [
    {
     "data": {
      "text/plain": [
       "array([[87, 12, 90, 91, 34, 36],\n",
       "       [96, 24, 76, 81, 21, 87],\n",
       "       [87, 12, 90, 91, 34, 36],\n",
       "       [96, 24, 76, 81, 21, 87],\n",
       "       [87, 12, 90, 91, 34, 36]])"
      ]
     },
     "execution_count": 39,
     "metadata": {},
     "output_type": "execute_result"
    }
   ],
   "source": [
    "#Resize\n",
    "\n",
    "np.resize(a2,(5,6))"
   ]
  },
  {
   "cell_type": "code",
   "execution_count": 40,
   "id": "5784cde9",
   "metadata": {},
   "outputs": [
    {
     "data": {
      "text/plain": [
       "array([[87, 12, 90],\n",
       "       [91, 34, 36],\n",
       "       [96, 24, 76],\n",
       "       [81, 21, 87]])"
      ]
     },
     "execution_count": 40,
     "metadata": {},
     "output_type": "execute_result"
    }
   ],
   "source": [
    "# Flatten\n",
    "\n",
    "a2"
   ]
  },
  {
   "cell_type": "code",
   "execution_count": 47,
   "id": "a667ef98",
   "metadata": {},
   "outputs": [
    {
     "data": {
      "text/plain": [
       "array([[[87, 12],\n",
       "        [90, 91],\n",
       "        [34, 36]],\n",
       "\n",
       "       [[96, 24],\n",
       "        [76, 81],\n",
       "        [21, 87]]])"
      ]
     },
     "execution_count": 47,
     "metadata": {},
     "output_type": "execute_result"
    }
   ],
   "source": [
    "a3 = np.reshape(a2,(2,3,2))        \n",
    "a3"
   ]
  },
  {
   "cell_type": "code",
   "execution_count": 46,
   "id": "5f72bd24",
   "metadata": {},
   "outputs": [
    {
     "data": {
      "text/plain": [
       "array([87, 12, 90, 91, 34, 36, 96, 24, 76, 81, 21, 87])"
      ]
     },
     "execution_count": 46,
     "metadata": {},
     "output_type": "execute_result"
    }
   ],
   "source": [
    "a3.flatten() #converting any type matrix in 1d array."
   ]
  },
  {
   "cell_type": "code",
   "execution_count": 48,
   "id": "4a4dad6e",
   "metadata": {},
   "outputs": [
    {
     "data": {
      "text/plain": [
       "array([[[87, 12],\n",
       "        [90, 91],\n",
       "        [34, 36]],\n",
       "\n",
       "       [[96, 24],\n",
       "        [76, 81],\n",
       "        [21, 87]]])"
      ]
     },
     "execution_count": 48,
     "metadata": {},
     "output_type": "execute_result"
    }
   ],
   "source": [
    "a3"
   ]
  },
  {
   "cell_type": "code",
   "execution_count": null,
   "id": "743db768",
   "metadata": {},
   "outputs": [],
   "source": [
    "l1 =[1,2,3,4]"
   ]
  },
  {
   "cell_type": "markdown",
   "id": "45dba26e",
   "metadata": {},
   "source": [
    "# cloning and coping"
   ]
  },
  {
   "cell_type": "code",
   "execution_count": null,
   "id": "aafe23ef",
   "metadata": {},
   "outputs": [],
   "source": [
    "l2 = l1 #cloning"
   ]
  },
  {
   "cell_type": "code",
   "execution_count": null,
   "id": "0f1f3bd4",
   "metadata": {},
   "outputs": [],
   "source": [
    "l2"
   ]
  },
  {
   "cell_type": "code",
   "execution_count": null,
   "id": "f9fe7249",
   "metadata": {},
   "outputs": [],
   "source": [
    "l2.pop()"
   ]
  },
  {
   "cell_type": "code",
   "execution_count": null,
   "id": "78397c7d",
   "metadata": {},
   "outputs": [],
   "source": [
    "l1"
   ]
  },
  {
   "cell_type": "code",
   "execution_count": null,
   "id": "0e9e2688",
   "metadata": {},
   "outputs": [],
   "source": [
    "l3 = l1.copy()  #copying"
   ]
  },
  {
   "cell_type": "code",
   "execution_count": null,
   "id": "51ad5fe3",
   "metadata": {},
   "outputs": [],
   "source": [
    "l3"
   ]
  },
  {
   "cell_type": "code",
   "execution_count": null,
   "id": "0ceddda6",
   "metadata": {},
   "outputs": [],
   "source": [
    "l3.pop()"
   ]
  },
  {
   "cell_type": "code",
   "execution_count": null,
   "id": "15d7ef53",
   "metadata": {},
   "outputs": [],
   "source": [
    "l3"
   ]
  },
  {
   "cell_type": "code",
   "execution_count": null,
   "id": "7e36cc86",
   "metadata": {},
   "outputs": [],
   "source": [
    "l1"
   ]
  },
  {
   "cell_type": "code",
   "execution_count": null,
   "id": "bc3fc581",
   "metadata": {},
   "outputs": [],
   "source": [
    " an = np.full((4,3),30)"
   ]
  },
  {
   "cell_type": "code",
   "execution_count": null,
   "id": "73360297",
   "metadata": {},
   "outputs": [],
   "source": [
    "an"
   ]
  },
  {
   "cell_type": "code",
   "execution_count": null,
   "id": "32e1b3c4",
   "metadata": {},
   "outputs": [],
   "source": []
  }
 ],
 "metadata": {
  "kernelspec": {
   "display_name": "Python 3 (ipykernel)",
   "language": "python",
   "name": "python3"
  },
  "language_info": {
   "codemirror_mode": {
    "name": "ipython",
    "version": 3
   },
   "file_extension": ".py",
   "mimetype": "text/x-python",
   "name": "python",
   "nbconvert_exporter": "python",
   "pygments_lexer": "ipython3",
   "version": "3.9.12"
  }
 },
 "nbformat": 4,
 "nbformat_minor": 5
}
