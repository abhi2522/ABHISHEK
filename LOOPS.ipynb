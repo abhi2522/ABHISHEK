{
 "cells": [
  {
   "cell_type": "markdown",
   "id": "43173661",
   "metadata": {},
   "source": [
    "# LOOPS"
   ]
  },
  {
   "cell_type": "markdown",
   "id": "16a1687f",
   "metadata": {},
   "source": [
    "* in order to avoid writing the same lines of code mutiple times we use loops\n",
    "* loops are important in python or any other programming language.\n"
   ]
  },
  {
   "cell_type": "markdown",
   "id": "9df43280",
   "metadata": {},
   "source": [
    "* In python we have two different types of loops :\n",
    "    * 1.for loop : In the context of most of the data science work python \"for loops\" are used to loop through an iterable object ( list, tuples,set etc) and perform the same action for each entry. for ex. for loops would allows us to iterate theough list, performing same action on each item in the list.\n",
    "    * 2.While loop : while loops is some what similar to if statement ,it execute the code that present inside if condition is true. However as opposed to the if statement , the while loops continous the loops as long as  condition is true."
   ]
  },
  {
   "cell_type": "code",
   "execution_count": 3,
   "id": "17f8e436",
   "metadata": {},
   "outputs": [],
   "source": [
    "l1 = [1,2,3,4]"
   ]
  },
  {
   "cell_type": "code",
   "execution_count": 4,
   "id": "5ef61748",
   "metadata": {},
   "outputs": [],
   "source": [
    "l2=[]\n",
    "\n",
    "for i in l1:\n",
    "    l2.append(i*2)\n"
   ]
  },
  {
   "cell_type": "code",
   "execution_count": 5,
   "id": "cd8bac3f",
   "metadata": {},
   "outputs": [
    {
     "data": {
      "text/plain": [
       "[2, 4, 6, 8]"
      ]
     },
     "execution_count": 5,
     "metadata": {},
     "output_type": "execute_result"
    }
   ],
   "source": [
    "l2"
   ]
  },
  {
   "cell_type": "code",
   "execution_count": 6,
   "id": "ee1a69dc",
   "metadata": {},
   "outputs": [],
   "source": [
    "l_e = []\n",
    "l_o = []\n"
   ]
  },
  {
   "cell_type": "code",
   "execution_count": 7,
   "id": "ece2de6a",
   "metadata": {},
   "outputs": [],
   "source": [
    "for i in l1:\n",
    "    if i%2==0:\n",
    "        l_e.append(i)\n",
    "    else:\n",
    "        l_o.append(i)\n",
    "        \n",
    "\n",
    "    "
   ]
  },
  {
   "cell_type": "code",
   "execution_count": 8,
   "id": "7c6a108b",
   "metadata": {},
   "outputs": [
    {
     "data": {
      "text/plain": [
       "([2, 4], [1, 3])"
      ]
     },
     "execution_count": 8,
     "metadata": {},
     "output_type": "execute_result"
    }
   ],
   "source": [
    "l_e,l_o"
   ]
  },
  {
   "cell_type": "code",
   "execution_count": 9,
   "id": "064f4ed9",
   "metadata": {},
   "outputs": [
    {
     "name": "stdout",
     "output_type": "stream",
     "text": [
      "0\n",
      "2\n",
      "4\n",
      "6\n",
      "8\n",
      "10\n",
      "12\n",
      "14\n",
      "16\n",
      "18\n"
     ]
    }
   ],
   "source": [
    "x = 0\n",
    "\n",
    "while x<10:\n",
    "    print(x*2)\n",
    "    x=x+1     # (x=+1)"
   ]
  },
  {
   "cell_type": "code",
   "execution_count": 10,
   "id": "d3b887d6",
   "metadata": {},
   "outputs": [],
   "source": [
    "l1 =[[1,2],[3,4]]"
   ]
  },
  {
   "cell_type": "code",
   "execution_count": 11,
   "id": "e72866b8",
   "metadata": {},
   "outputs": [
    {
     "name": "stdout",
     "output_type": "stream",
     "text": [
      "[1, 2]\n",
      "[3, 4]\n"
     ]
    }
   ],
   "source": [
    "for i in l1:\n",
    "    print(i)"
   ]
  },
  {
   "cell_type": "code",
   "execution_count": 12,
   "id": "35ab6571",
   "metadata": {},
   "outputs": [],
   "source": [
    "l2 = []\n",
    "l3 =[]\n",
    "l4 = [l2,l3]\n"
   ]
  },
  {
   "cell_type": "code",
   "execution_count": 13,
   "id": "703242b8",
   "metadata": {},
   "outputs": [],
   "source": [
    "for i in l1:\n",
    "    for j in i:\n",
    "        l2.append(j**2)\n",
    "        "
   ]
  },
  {
   "cell_type": "code",
   "execution_count": 14,
   "id": "30f54fd6",
   "metadata": {},
   "outputs": [
    {
     "data": {
      "text/plain": [
       "[1, 4, 9, 16]"
      ]
     },
     "execution_count": 14,
     "metadata": {},
     "output_type": "execute_result"
    }
   ],
   "source": [
    "l2"
   ]
  },
  {
   "cell_type": "code",
   "execution_count": null,
   "id": "0ec74f7a",
   "metadata": {},
   "outputs": [],
   "source": []
  }
 ],
 "metadata": {
  "kernelspec": {
   "display_name": "Python 3 (ipykernel)",
   "language": "python",
   "name": "python3"
  },
  "language_info": {
   "codemirror_mode": {
    "name": "ipython",
    "version": 3
   },
   "file_extension": ".py",
   "mimetype": "text/x-python",
   "name": "python",
   "nbconvert_exporter": "python",
   "pygments_lexer": "ipython3",
   "version": "3.9.12"
  }
 },
 "nbformat": 4,
 "nbformat_minor": 5
}
